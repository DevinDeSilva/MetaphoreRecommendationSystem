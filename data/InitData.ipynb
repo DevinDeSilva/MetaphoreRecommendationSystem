{
 "cells": [
  {
   "cell_type": "code",
   "execution_count": 143,
   "metadata": {
    "collapsed": true
   },
   "outputs": [],
   "source": [
    "import os\n",
    "\n",
    "import pandas as pd\n",
    "import json\n",
    "from tqdm import tqdm\n",
    "import glob"
   ]
  },
  {
   "cell_type": "code",
   "execution_count": 144,
   "outputs": [],
   "source": [
    "with open(\"../config.json\",\"r\") as f0:\n",
    "    config = json.load(f0)\n",
    "\n",
    "JSON_SAVE_LOC = \"json_data\""
   ],
   "metadata": {
    "collapsed": false
   }
  },
  {
   "cell_type": "code",
   "execution_count": 145,
   "outputs": [],
   "source": [
    "song_details = pd.read_excel(\"Metarphors_180118T.xlsx\",sheet_name=\"song details\")\n",
    "metaphor_details = pd.read_excel(\"Metarphors_180118T.xlsx\",sheet_name=\"metaphors\")"
   ],
   "metadata": {
    "collapsed": false
   }
  },
  {
   "cell_type": "code",
   "execution_count": 146,
   "outputs": [
    {
     "data": {
      "text/plain": "   ID                   Song Name                           Voice  \\\n0   1                  මගෙ ජීවිනේ                මංජුල පුෂ්පකුමාර   \n1   2      හිතුවෙවත්‌ නැති දවසක\\n  මහේෂ්‌ ජයවර්ධන,ශාලිත ශහෙන්ද්‍ර   \n2   3  රැස්‌ විහිදෙන සමනලියකගෙන්‌                 භානිය, සන්තුෂ්‌   \n3   4              හිරු මැක්‌ යයි                     අමිල පෙරේරා   \n4   5              චන්ද්රයන් පිදූ                           Daddy   \n\n                    Music          Lyricist  \\\n0          නුසින්‌ නිරෝෂණ  සජිත්‌ දිල්පහන්‌   \n1  WIDE ANGLE PRODUCTIONS     Spin Circuitz   \n2                    Null   භානිය, සන්තුෂ්‌   \n3        මහේෂ්‌ දෙනිපිටිය   ආරියසිංහ පෙරේරා   \n4                    Null              Null   \n\n                                     Album  Year  \\\n0                                     Null  2010   \n1                                 Season 1  2010   \n2  RESVIHIDENA the Valentine's Day Special  2007   \n3                         ආසයි මං පියාඹන්න  2007   \n4                                  Massina  2010   \n\n                                              Lyrics  \n0  මගෙ ජීවිනේ ...  සොඳුරේ ඔබ පමණයි\\nනෑ යන්නෙ.... ...  \n1  හිතුවෙවත් නැති දවසක\\nහිතන් නැතිවම ලං වුනා\\nඅතී...  \n2  රැස් විහිදෙන සමනලියකගෙන්\\nඉගියක් ලැබුනාම\\nරැක ...  \n3  හිරු මැකී යයි නීල අහසේ සේද මීදුම්‌ මායිමේ\\nනිම...  \n4  සිහිනෙන් වූවත් නෑ මා දුටුවේ\\nමාගේ දිවියේ අන්ධක...  ",
      "text/html": "<div>\n<style scoped>\n    .dataframe tbody tr th:only-of-type {\n        vertical-align: middle;\n    }\n\n    .dataframe tbody tr th {\n        vertical-align: top;\n    }\n\n    .dataframe thead th {\n        text-align: right;\n    }\n</style>\n<table border=\"1\" class=\"dataframe\">\n  <thead>\n    <tr style=\"text-align: right;\">\n      <th></th>\n      <th>ID</th>\n      <th>Song Name</th>\n      <th>Voice</th>\n      <th>Music</th>\n      <th>Lyricist</th>\n      <th>Album</th>\n      <th>Year</th>\n      <th>Lyrics</th>\n    </tr>\n  </thead>\n  <tbody>\n    <tr>\n      <th>0</th>\n      <td>1</td>\n      <td>මගෙ ජීවිනේ</td>\n      <td>මංජුල පුෂ්පකුමාර</td>\n      <td>නුසින්‌ නිරෝෂණ</td>\n      <td>සජිත්‌ දිල්පහන්‌</td>\n      <td>Null</td>\n      <td>2010</td>\n      <td>මගෙ ජීවිනේ ...  සොඳුරේ ඔබ පමණයි\\nනෑ යන්නෙ.... ...</td>\n    </tr>\n    <tr>\n      <th>1</th>\n      <td>2</td>\n      <td>හිතුවෙවත්‌ නැති දවසක\\n</td>\n      <td>මහේෂ්‌ ජයවර්ධන,ශාලිත ශහෙන්ද්‍ර</td>\n      <td>WIDE ANGLE PRODUCTIONS</td>\n      <td>Spin Circuitz</td>\n      <td>Season 1</td>\n      <td>2010</td>\n      <td>හිතුවෙවත් නැති දවසක\\nහිතන් නැතිවම ලං වුනා\\nඅතී...</td>\n    </tr>\n    <tr>\n      <th>2</th>\n      <td>3</td>\n      <td>රැස්‌ විහිදෙන සමනලියකගෙන්‌</td>\n      <td>භානිය, සන්තුෂ්‌</td>\n      <td>Null</td>\n      <td>භානිය, සන්තුෂ්‌</td>\n      <td>RESVIHIDENA the Valentine's Day Special</td>\n      <td>2007</td>\n      <td>රැස් විහිදෙන සමනලියකගෙන්\\nඉගියක් ලැබුනාම\\nරැක ...</td>\n    </tr>\n    <tr>\n      <th>3</th>\n      <td>4</td>\n      <td>හිරු මැක්‌ යයි</td>\n      <td>අමිල පෙරේරා</td>\n      <td>මහේෂ්‌ දෙනිපිටිය</td>\n      <td>ආරියසිංහ පෙරේරා</td>\n      <td>ආසයි මං පියාඹන්න</td>\n      <td>2007</td>\n      <td>හිරු මැකී යයි නීල අහසේ සේද මීදුම්‌ මායිමේ\\nනිම...</td>\n    </tr>\n    <tr>\n      <th>4</th>\n      <td>5</td>\n      <td>චන්ද්රයන් පිදූ</td>\n      <td>Daddy</td>\n      <td>Null</td>\n      <td>Null</td>\n      <td>Massina</td>\n      <td>2010</td>\n      <td>සිහිනෙන් වූවත් නෑ මා දුටුවේ\\nමාගේ දිවියේ අන්ධක...</td>\n    </tr>\n  </tbody>\n</table>\n</div>"
     },
     "execution_count": 146,
     "metadata": {},
     "output_type": "execute_result"
    }
   ],
   "source": [
    "song_details.head()"
   ],
   "metadata": {
    "collapsed": false
   }
  },
  {
   "cell_type": "code",
   "execution_count": 147,
   "outputs": [
    {
     "data": {
      "text/plain": "   Song_ID                                           Metaphor  \\\n0        1                  තරු මිලින වෙලා සඳු නෑ අද මගෙ ලොකෙ   \n1        1  තව එක මොහොතක්‌ නුබෙ සෙනෙහේ මගෙ වේනම්‌ තරු අතූර...   \n2        2      සමනල්ලු ඉහ හැරුණු අත ගියා අපි ආයේ නොයෙනා නිසා   \n3        3            රැස් විහිදෙන සමනලියකගෙන් ඉගියක් ලැබුනාම   \n4        3             දිරි දෙන්නම් මුළු හද පත්ලෙන් මහමෙර සේම   \n\n                                             Meaning      source domain  \\\n0              I am sad as I have lost my happiness.               Moon   \n1  I will do anything for your love becomes mine ...       stars in sky   \n2               Love is lost as we won't meet again.   Butterfly flight   \n3            A beautiful girl gets interested in you  radiant butterfly   \n4       Will give you encouragement(like the ocean).              Ocean   \n\n    target domain  \n0           Lover  \n1          Effort  \n2  drifting apart  \n3           Lover  \n4          Effort  ",
      "text/html": "<div>\n<style scoped>\n    .dataframe tbody tr th:only-of-type {\n        vertical-align: middle;\n    }\n\n    .dataframe tbody tr th {\n        vertical-align: top;\n    }\n\n    .dataframe thead th {\n        text-align: right;\n    }\n</style>\n<table border=\"1\" class=\"dataframe\">\n  <thead>\n    <tr style=\"text-align: right;\">\n      <th></th>\n      <th>Song_ID</th>\n      <th>Metaphor</th>\n      <th>Meaning</th>\n      <th>source domain</th>\n      <th>target domain</th>\n    </tr>\n  </thead>\n  <tbody>\n    <tr>\n      <th>0</th>\n      <td>1</td>\n      <td>තරු මිලින වෙලා සඳු නෑ අද මගෙ ලොකෙ</td>\n      <td>I am sad as I have lost my happiness.</td>\n      <td>Moon</td>\n      <td>Lover</td>\n    </tr>\n    <tr>\n      <th>1</th>\n      <td>1</td>\n      <td>තව එක මොහොතක්‌ නුබෙ සෙනෙහේ මගෙ වේනම්‌ තරු අතූර...</td>\n      <td>I will do anything for your love becomes mine ...</td>\n      <td>stars in sky</td>\n      <td>Effort</td>\n    </tr>\n    <tr>\n      <th>2</th>\n      <td>2</td>\n      <td>සමනල්ලු ඉහ හැරුණු අත ගියා අපි ආයේ නොයෙනා නිසා</td>\n      <td>Love is lost as we won't meet again.</td>\n      <td>Butterfly flight</td>\n      <td>drifting apart</td>\n    </tr>\n    <tr>\n      <th>3</th>\n      <td>3</td>\n      <td>රැස් විහිදෙන සමනලියකගෙන් ඉගියක් ලැබුනාම</td>\n      <td>A beautiful girl gets interested in you</td>\n      <td>radiant butterfly</td>\n      <td>Lover</td>\n    </tr>\n    <tr>\n      <th>4</th>\n      <td>3</td>\n      <td>දිරි දෙන්නම් මුළු හද පත්ලෙන් මහමෙර සේම</td>\n      <td>Will give you encouragement(like the ocean).</td>\n      <td>Ocean</td>\n      <td>Effort</td>\n    </tr>\n  </tbody>\n</table>\n</div>"
     },
     "execution_count": 147,
     "metadata": {},
     "output_type": "execute_result"
    }
   ],
   "source": [
    "metaphor_details.head()"
   ],
   "metadata": {
    "collapsed": false
   }
  },
  {
   "cell_type": "code",
   "execution_count": 148,
   "outputs": [
    {
     "data": {
      "text/plain": "((144, 5), (100, 8))"
     },
     "execution_count": 148,
     "metadata": {},
     "output_type": "execute_result"
    }
   ],
   "source": [
    "metaphor_details.shape,song_details.shape"
   ],
   "metadata": {
    "collapsed": false
   }
  },
  {
   "cell_type": "code",
   "execution_count": 149,
   "outputs": [],
   "source": [
    "def concat_dict(dict_a:dict,dict_b:dict) -> dict:\n",
    "    return_dict = {}\n",
    "\n",
    "    for k in dict_a.keys():\n",
    "        return_dict[k] = dict_a.get(k) if dict_a.get(k) else \"Null\"\n",
    "\n",
    "    for k in dict_b.keys():\n",
    "        return_dict[k] = dict_b.get(k) if dict_b.get(k) else \"Null\"\n",
    "\n",
    "    return return_dict\n",
    "\n",
    "def data_request_format(configuration:dict,value_dict:dict):\n",
    "    return {\n",
    "        \"_index\":configuration[\"elasticsearch\"][\"index\"],\n",
    "        \"_source\":value_dict\n",
    "    }\n",
    "\n",
    "\n",
    "def gen_song_jsons(metaphor_df:pd.DataFrame,song_df:pd.DataFrame,save_fol) -> None:\n",
    "    for row_ind in tqdm(range(metaphor_df.shape[0]),desc=\"Processing Songs\",total=metaphor_df.shape[0]):\n",
    "        row = metaphor_df.loc[row_ind,:].to_dict()\n",
    "        song_d = song_df.loc[row[\"Song_ID\"]-1,:].to_dict()\n",
    "        combined_dict = concat_dict(song_d,row)\n",
    "        request_format = data_request_format(config,combined_dict)\n",
    "\n",
    "        with open(os.path.join(save_fol,f\"{row_ind}.json\"),\"w\") as fileO:\n",
    "            json.dump(request_format,fileO)"
   ],
   "metadata": {
    "collapsed": false
   }
  },
  {
   "cell_type": "code",
   "execution_count": 150,
   "outputs": [
    {
     "name": "stderr",
     "output_type": "stream",
     "text": [
      "Processing Songs: 100%|██████████| 144/144 [00:00<00:00, 1133.87it/s]\n"
     ]
    }
   ],
   "source": [
    "gen_song_jsons(metaphor_details,song_details,JSON_SAVE_LOC)"
   ],
   "metadata": {
    "collapsed": false
   }
  },
  {
   "cell_type": "markdown",
   "source": [
    "## Send Request to Elastic"
   ],
   "metadata": {
    "collapsed": false
   }
  },
  {
   "cell_type": "code",
   "execution_count": 151,
   "outputs": [],
   "source": [
    "list_files = [x for x in os.listdir(JSON_SAVE_LOC) if \".json\" in x]"
   ],
   "metadata": {
    "collapsed": false
   }
  },
  {
   "cell_type": "code",
   "execution_count": 152,
   "outputs": [],
   "source": [
    "def datagen(file_list:list):\n",
    "    for f in file_list:\n",
    "        with open(os.path.join(JSON_SAVE_LOC,f),\"r\") as fileO:\n",
    "            data = json.load(fileO)\n",
    "\n",
    "        yield data"
   ],
   "metadata": {
    "collapsed": false
   }
  },
  {
   "cell_type": "code",
   "execution_count": 153,
   "outputs": [],
   "source": [
    "file_ = next(datagen(list_files))"
   ],
   "metadata": {
    "collapsed": false
   }
  },
  {
   "cell_type": "code",
   "execution_count": 154,
   "outputs": [
    {
     "data": {
      "text/plain": "{'_index': 'sinhalasongmetaphorsdb',\n '_source': {'ID': 1,\n  'Song Name': 'මගෙ ජීවිනේ',\n  'Voice': ' මංජුල පුෂ්පකුමාර',\n  'Music': 'නුසින්\\u200c නිරෝෂණ',\n  'Lyricist': 'සජිත්\\u200c දිල්පහන්\\u200c',\n  'Album': 'Null',\n  'Year': 2010,\n  'Lyrics': 'මගෙ ජීවිනේ ...  සොඳුරේ ඔබ පමණයි\\nනෑ යන්නෙ.... හැරදා... කිසිදා...\\n\\nතරු මිලින වෙලා සඳු නෑ අද මගෙ ලොකෙ\\nබොඳවී පැතූමන්\\u200c මා හඩවා...//\\n\\nගැස්සෙන ඔය හදේ රිද්මයේ\\nසත්තට තූරුළු ඵී සැනහුනේ\\n\\nලස්සන සිනහවක පැටලුනේ\\nසිඳගෙන ඔබද මා සුරතලිී...//\\n\\nනවතා සුසුමන්\\u200c හැර යන්න එපා\\n\\nඔබමයි ප්\\u200dරියේ මාගේ ජීවේ\\n\\nතව එක මොහොතක්\\u200c නුබෙ සෙනෙහේ මගෙ වේනම්\\u200c\\nතරු අතූරා අහසේ සරසන්නම්\\u200c...//\\n\\nගැස්සෙන ඔය හදේ රිද්මයේ\\nසත්තට තූරුළු ඵී සැනහුනේ\\n\\nලස්සන සිනහවක පැටලුනේ\\nසිඳගෙන ඔබද මා සුරතලිී...//',\n  'Song_ID': 1,\n  'Metaphor': 'තරු මිලින වෙලා සඳු නෑ අද මගෙ ලොකෙ',\n  'Meaning': 'I am sad as I have lost my happiness.',\n  'source domain': 'Moon',\n  'target domain': 'Lover'}}"
     },
     "execution_count": 154,
     "metadata": {},
     "output_type": "execute_result"
    }
   ],
   "source": [
    "file_"
   ],
   "metadata": {
    "collapsed": false
   }
  },
  {
   "cell_type": "code",
   "execution_count": 155,
   "outputs": [
    {
     "data": {
      "text/plain": "{'host': 'https://localhost',\n 'port': 9200,\n 'username': 'elastic',\n 'password': 'R-6ou__S5RFYOospV0vY',\n 'index': 'sinhalasongmetaphorsdb',\n 'api_key': {'id': 'e-cBwYUBOVUGeTIumKDk',\n  'name': 'search-api-key',\n  'expiration': 1674585185736,\n  'api_key': 'CQT9tphlQTej-53I43F11Q',\n  'encoded': 'ZS1jQndZVUJPVlVHZVRJdW1LRGs6Q1FUOXRwaGxRVGVqLTUzSTQzRjExUQ=='}}"
     },
     "execution_count": 155,
     "metadata": {},
     "output_type": "execute_result"
    }
   ],
   "source": [
    "config[\"elasticsearch\"]"
   ],
   "metadata": {
    "collapsed": false
   }
  },
  {
   "cell_type": "code",
   "execution_count": 156,
   "outputs": [],
   "source": [
    "from elasticsearch import Elasticsearch,helpers\n",
    "\n",
    "client = Elasticsearch(HOST=config[\"elasticsearch\"][\"host\"], PORT=config[\"elasticsearch\"][\"port\"],http_auth=(config[\"elasticsearch\"][\"username\"],config[\"elasticsearch\"][\"password\"]),scheme=\"https\",ca_certs=\"../elasticsearch-8.6.0-windows-x86_64/elasticsearch-8.6.0/config/certs/http_ca.crt\")\n",
    "\n",
    "INDEX = config[\"elasticsearch\"][\"index\"]"
   ],
   "metadata": {
    "collapsed": false
   }
  },
  {
   "cell_type": "code",
   "execution_count": 157,
   "outputs": [
    {
     "data": {
      "text/plain": "(144, [])"
     },
     "execution_count": 157,
     "metadata": {},
     "output_type": "execute_result"
    }
   ],
   "source": [
    "helpers.bulk(client,datagen(list_files))"
   ],
   "metadata": {
    "collapsed": false
   }
  },
  {
   "cell_type": "code",
   "execution_count": 157,
   "outputs": [],
   "source": [],
   "metadata": {
    "collapsed": false
   }
  }
 ],
 "metadata": {
  "kernelspec": {
   "display_name": "Python 3",
   "language": "python",
   "name": "python3"
  },
  "language_info": {
   "codemirror_mode": {
    "name": "ipython",
    "version": 2
   },
   "file_extension": ".py",
   "mimetype": "text/x-python",
   "name": "python",
   "nbconvert_exporter": "python",
   "pygments_lexer": "ipython2",
   "version": "2.7.6"
  }
 },
 "nbformat": 4,
 "nbformat_minor": 0
}
